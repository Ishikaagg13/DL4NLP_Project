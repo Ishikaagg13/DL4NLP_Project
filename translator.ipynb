{
 "cells": [
  {
   "cell_type": "code",
   "execution_count": 1,
   "metadata": {},
   "outputs": [
    {
     "name": "stdout",
     "output_type": "stream",
     "text": [
      "Collecting deep_translator\n",
      "  Downloading deep_translator-1.11.4-py3-none-any.whl (42 kB)\n",
      "     ---------------------------------------- 42.3/42.3 KB 2.1 MB/s eta 0:00:00\n",
      "Requirement already satisfied: beautifulsoup4<5.0.0,>=4.9.1 in c:\\users\\hamzakhalid\\envs\\trs\\lib\\site-packages (from deep_translator) (4.11.1)\n",
      "Requirement already satisfied: requests<3.0.0,>=2.23.0 in c:\\users\\hamzakhalid\\envs\\trs\\lib\\site-packages (from deep_translator) (2.27.1)\n",
      "Requirement already satisfied: soupsieve>1.2 in c:\\users\\hamzakhalid\\envs\\trs\\lib\\site-packages (from beautifulsoup4<5.0.0,>=4.9.1->deep_translator) (2.3.2)\n",
      "Requirement already satisfied: idna<4,>=2.5 in c:\\users\\hamzakhalid\\envs\\trs\\lib\\site-packages (from requests<3.0.0,>=2.23.0->deep_translator) (2.10)\n",
      "Requirement already satisfied: certifi>=2017.4.17 in c:\\users\\hamzakhalid\\envs\\trs\\lib\\site-packages (from requests<3.0.0,>=2.23.0->deep_translator) (2021.10.8)\n",
      "Requirement already satisfied: urllib3<1.27,>=1.21.1 in c:\\users\\hamzakhalid\\envs\\trs\\lib\\site-packages (from requests<3.0.0,>=2.23.0->deep_translator) (1.26.9)\n",
      "Requirement already satisfied: charset-normalizer~=2.0.0 in c:\\users\\hamzakhalid\\envs\\trs\\lib\\site-packages (from requests<3.0.0,>=2.23.0->deep_translator) (2.0.12)\n",
      "Installing collected packages: deep_translator\n",
      "Successfully installed deep_translator-1.11.4\n"
     ]
    },
    {
     "name": "stderr",
     "output_type": "stream",
     "text": [
      "WARNING: You are using pip version 22.0.3; however, version 24.0 is available.\n",
      "You should consider upgrading via the 'C:\\Users\\HamzaKhalid\\Envs\\trs\\Scripts\\python.exe -m pip install --upgrade pip' command.\n"
     ]
    }
   ],
   "source": [
    "!pip install deep_translator"
   ]
  },
  {
   "cell_type": "code",
   "execution_count": 2,
   "metadata": {},
   "outputs": [
    {
     "name": "stdout",
     "output_type": "stream",
     "text": [
      "hello\n",
      "வணக்கம்\n"
     ]
    }
   ],
   "source": [
    "from deep_translator import GoogleTranslator\n",
    "\n",
    "def translate(text, source_lang='ta', target_lang='en'):\n",
    "    \"\"\"Translate text from source language to target language using Google Translator.\"\"\"\n",
    "    translator = GoogleTranslator(source=source_lang, target=target_lang)\n",
    "    translated_text = translator.translate(text)\n",
    "    return translated_text\n",
    "\n",
    "# Example usage\n",
    "tamil_text = \"வணக்கம்\"\n",
    "english_translation = translate(tamil_text, source_lang='ta', target_lang='en')\n",
    "print(english_translation)\n",
    "\n",
    "english_text = \"Hello\"\n",
    "tamil_translation = translate(english_text, source_lang='en', target_lang='ta')\n",
    "print(tamil_translation)\n"
   ]
  },
  {
   "cell_type": "code",
   "execution_count": null,
   "metadata": {},
   "outputs": [],
   "source": []
  },
  {
   "cell_type": "code",
   "execution_count": null,
   "metadata": {},
   "outputs": [],
   "source": []
  }
 ],
 "metadata": {
  "kernelspec": {
   "display_name": "trs",
   "language": "python",
   "name": "python3"
  },
  "language_info": {
   "codemirror_mode": {
    "name": "ipython",
    "version": 3
   },
   "file_extension": ".py",
   "mimetype": "text/x-python",
   "name": "python",
   "nbconvert_exporter": "python",
   "pygments_lexer": "ipython3",
   "version": "3.10.2"
  }
 },
 "nbformat": 4,
 "nbformat_minor": 2
}
