{
 "cells": [
  {
   "cell_type": "code",
   "execution_count": 9,
   "metadata": {},
   "outputs": [
    {
     "name": "stdout",
     "output_type": "stream",
     "text": [
      "====================================================================================\n",
      "https://nationalmuseumindia.gov.in/en/collections/index/6\n",
      "======================================== driver ============================================\n",
      "=====================================  get ===============================================\n"
     ]
    },
    {
     "ename": "NameError",
     "evalue": "name 'driver' is not defined",
     "output_type": "error",
     "traceback": [
      "\u001b[1;31m---------------------------------------------------------------------------\u001b[0m",
      "\u001b[1;31mNameError\u001b[0m                                 Traceback (most recent call last)",
      "Input \u001b[1;32mIn [9]\u001b[0m, in \u001b[0;36m<cell line: 18>\u001b[1;34m()\u001b[0m\n\u001b[0;32m     25\u001b[0m \u001b[38;5;66;03m# driver = webdriver.Chrome(\"D:\\JIO Institute\\Q4\\DL_NLP\\chromedriver_win32\\chromedriver.exe\")\u001b[39;00m\n\u001b[0;32m     26\u001b[0m \u001b[38;5;66;03m# driver.set_window_size(1024, 600)\u001b[39;00m\n\u001b[0;32m     27\u001b[0m \u001b[38;5;66;03m# driver.maximize_window()\u001b[39;00m\n\u001b[0;32m     28\u001b[0m \u001b[38;5;28mprint\u001b[39m(\u001b[38;5;124m\"\u001b[39m\u001b[38;5;124m=====================================  get ===============================================\u001b[39m\u001b[38;5;124m\"\u001b[39m)\n\u001b[1;32m---> 29\u001b[0m \u001b[43mdriver\u001b[49m\u001b[38;5;241m.\u001b[39mget(url)\n\u001b[0;32m     31\u001b[0m \u001b[38;5;28;01mtry\u001b[39;00m:\n\u001b[0;32m     32\u001b[0m     \u001b[38;5;28mprint\u001b[39m(\u001b[38;5;124m\"\u001b[39m\u001b[38;5;124m=====================================  wait ===============================================\u001b[39m\u001b[38;5;124m\"\u001b[39m)\n",
      "\u001b[1;31mNameError\u001b[0m: name 'driver' is not defined"
     ]
    }
   ],
   "source": [
    "from selenium import webdriver\n",
    "from selenium.webdriver.chrome.service import Service\n",
    "from selenium.webdriver.common.by import By\n",
    "from selenium.webdriver.chrome.options import Options\n",
    "import time\n",
    "import requests\n",
    "from bs4 import BeautifulSoup as soup \n",
    "from selenium import webdriver\n",
    "from webdriver_manager.chrome import ChromeDriverManager\n",
    "from selenium.webdriver.common.by import By\n",
    "from selenium.webdriver.support.ui import WebDriverWait\n",
    "from selenium.webdriver.support import expected_conditions as EC\n",
    "from selenium.common.exceptions import TimeoutException\n",
    "import pandas as pd\n",
    "\n",
    "\n",
    "# Iterate through links\n",
    "for i in range(6, 20):  # Change range as needed\n",
    "    \n",
    "    # print(page)\n",
    "    url = f'https://nationalmuseumindia.gov.in/en/collections/index/{i}'\n",
    "    print(\"====================================================================================\")\n",
    "    print(url)\n",
    "    print(\"======================================== driver ============================================\")\n",
    "    driver = webdriver.Chrome(\"D:\\JIO Institute\\Q4\\DL_NLP\\chromedriver_win32\\chromedriver.exe\")\n",
    "    driver.set_window_size(1024, 600)\n",
    "    driver.maximize_window()\n",
    "    print(\"=====================================  get ===============================================\")\n",
    "    driver.get(url)\n",
    "    \n",
    "    try:\n",
    "        print(\"=====================================  wait ===============================================\")\n",
    "        element = WebDriverWait(driver, 5).until(EC.presence_of_element_located((By.CSS_SELECTOR, '#skip-content > div > div > div.cols9 > div.sliderWrap > div > div.swiper-container.swiper-container-horizontal > div > div:nth-child(4) > div > a')))\n",
    "        print(\"Page is ready!\")\n",
    "    except TimeoutException:\n",
    "        print(\"Loading took too much time!\")\n",
    "\n",
    "    dests = driver.find_elements(by=By.CSS_SELECTOR, value='#skip-content > div > div > div.cols9 > div.sliderWrap > div > div.swiper-container.swiper-container-horizontal > div > div:nth-child(4) > div > a')\n",
    "    print(\"======================================== len ============================================\")\n",
    "    print(len(dests))  \n",
    "\n",
    "\n",
    "\n",
    "# Quit the driver\n",
    "driver.quit()\n"
   ]
  },
  {
   "cell_type": "code",
   "execution_count": null,
   "metadata": {},
   "outputs": [],
   "source": []
  }
 ],
 "metadata": {
  "kernelspec": {
   "display_name": "trs",
   "language": "python",
   "name": "python3"
  },
  "language_info": {
   "codemirror_mode": {
    "name": "ipython",
    "version": 3
   },
   "file_extension": ".py",
   "mimetype": "text/x-python",
   "name": "python",
   "nbconvert_exporter": "python",
   "pygments_lexer": "ipython3",
   "version": "3.10.2"
  }
 },
 "nbformat": 4,
 "nbformat_minor": 2
}
