{
  "nbformat": 4,
  "nbformat_minor": 0,
  "metadata": {
    "colab": {
      "provenance": []
    },
    "kernelspec": {
      "name": "python3",
      "display_name": "Python 3"
    },
    "language_info": {
      "name": "python"
    }
  },
  "cells": [
    {
      "cell_type": "code",
      "source": [
        "!pip install deep-translator\n"
      ],
      "metadata": {
        "colab": {
          "base_uri": "https://localhost:8080/"
        },
        "id": "gVhHbaUtuaL_",
        "outputId": "a03353dd-e4ab-40cb-debc-48687c1484e1"
      },
      "execution_count": 8,
      "outputs": [
        {
          "output_type": "stream",
          "name": "stdout",
          "text": [
            "Collecting deep-translator\n",
            "  Downloading deep_translator-1.11.4-py3-none-any.whl (42 kB)\n",
            "\u001b[?25l     \u001b[90m━━━━━━━━━━━━━━━━━━━━━━━━━━━━━━━━━━━━━━━━\u001b[0m \u001b[32m0.0/42.3 kB\u001b[0m \u001b[31m?\u001b[0m eta \u001b[36m-:--:--\u001b[0m\r\u001b[2K     \u001b[90m━━━━━━━━━━━━━━━━━━━━━━━━━━━━━━━━━━━━━━━━\u001b[0m \u001b[32m42.3/42.3 kB\u001b[0m \u001b[31m1.6 MB/s\u001b[0m eta \u001b[36m0:00:00\u001b[0m\n",
            "\u001b[?25hRequirement already satisfied: beautifulsoup4<5.0.0,>=4.9.1 in /usr/local/lib/python3.10/dist-packages (from deep-translator) (4.12.3)\n",
            "Requirement already satisfied: requests<3.0.0,>=2.23.0 in /usr/local/lib/python3.10/dist-packages (from deep-translator) (2.31.0)\n",
            "Requirement already satisfied: soupsieve>1.2 in /usr/local/lib/python3.10/dist-packages (from beautifulsoup4<5.0.0,>=4.9.1->deep-translator) (2.5)\n",
            "Requirement already satisfied: charset-normalizer<4,>=2 in /usr/local/lib/python3.10/dist-packages (from requests<3.0.0,>=2.23.0->deep-translator) (3.3.2)\n",
            "Requirement already satisfied: idna<4,>=2.5 in /usr/local/lib/python3.10/dist-packages (from requests<3.0.0,>=2.23.0->deep-translator) (3.6)\n",
            "Requirement already satisfied: urllib3<3,>=1.21.1 in /usr/local/lib/python3.10/dist-packages (from requests<3.0.0,>=2.23.0->deep-translator) (2.0.7)\n",
            "Requirement already satisfied: certifi>=2017.4.17 in /usr/local/lib/python3.10/dist-packages (from requests<3.0.0,>=2.23.0->deep-translator) (2024.2.2)\n",
            "Installing collected packages: deep-translator\n",
            "Successfully installed deep-translator-1.11.4\n"
          ]
        }
      ]
    },
    {
      "cell_type": "code",
      "source": [
        "from deep_translator import GoogleTranslator\n",
        "\n",
        "# Define input texts\n",
        "tamil_text = \"நான் உன்னை காதலிக்கிறேன்\"\n",
        "english_text = \"This is Tamil.\"\n",
        "\n",
        "# Translate Tamil to English\n",
        "translated_text_en = GoogleTranslator(source='ta', target='en').translate(tamil_text)\n",
        "print(\"Translated English:\", translated_text_en)\n",
        "\n",
        "# Translate English to Tamil\n",
        "translated_text_ta = GoogleTranslator(source='en', target='ta').translate(english_text)\n",
        "print(\"Translated Tamil:\", translated_text_ta)\n"
      ],
      "metadata": {
        "colab": {
          "base_uri": "https://localhost:8080/"
        },
        "id": "iZv-2ufwuaJY",
        "outputId": "3842c5c0-fef9-4a18-e75c-c5a706277da7"
      },
      "execution_count": 9,
      "outputs": [
        {
          "output_type": "stream",
          "name": "stdout",
          "text": [
            "Translated English: i love you\n",
            "Translated Tamil: இது தமிழ்.\n"
          ]
        }
      ]
    },
    {
      "cell_type": "code",
      "source": [
        "import json\n",
        "from deep_translator import GoogleTranslator\n",
        "\n",
        "# Load JSON data from file\n",
        "with open('/content/QnA.json', 'r') as file:\n",
        "    data = json.load(file)\n",
        "\n",
        "# Extract questions and answers from the dataset\n",
        "questions_answers = data['questions_answers']\n",
        "\n",
        "# Translate each question and answer from English to Tamil\n",
        "for qa_pair in questions_answers:\n",
        "    # Translate question from English to Tamil\n",
        "    translated_question = GoogleTranslator(source='en', target='ta').translate(qa_pair['question'])\n",
        "    # Translate answer from English to Tamil\n",
        "    #translated_answer = GoogleTranslator(source='en', target='ta').translate(qa_pair['answer'])\n",
        "\n",
        "    # Print translated question and answer\n",
        "    print(\"Translated Question:\", translated_question)\n",
        "    # print(\"Translated Answer:\", translated_answer)\n",
        "    print()  # Add a newline for better readability\n"
      ],
      "metadata": {
        "colab": {
          "base_uri": "https://localhost:8080/"
        },
        "id": "oGC-U2wxuaGT",
        "outputId": "8def3cbd-f809-4e8b-bd9e-f260c63e9bd0"
      },
      "execution_count": 12,
      "outputs": [
        {
          "output_type": "stream",
          "name": "stdout",
          "text": [
            "Translated Question: \"பொம்மை வண்டி\" என்ன பொருளால் ஆனது?\n",
            "\n",
            "Translated Question: \"விலங்கு முகம் கொண்ட கர்ப்பிணிப் பெண்\" சிலையின் தோராயமான உயரம் என்ன?\n",
            "\n",
            "Translated Question: \"புல்\" டெரகோட்டா சிலை எந்த நகரத்தில் கண்டுபிடிக்கப்பட்டது?\n",
            "\n",
            "Translated Question: \"ஏறும் குரங்கு\" டெரகோட்டா சிலையின் மதிப்பிடப்பட்ட உயரம் என்ன?\n",
            "\n",
            "Translated Question: \"நடனப் பெண்\" சிலையை உருவாக்க என்ன பொருள் பயன்படுத்தப்பட்டது?\n",
            "\n",
            "Translated Question: \"டிஷ்-கன்டெய்னர் - ஆன் ஸ்டாண்ட்\" எந்த இரண்டு பகுதிகளைக் கொண்டுள்ளது?\n",
            "\n",
            "Translated Question: கல்லில் செதுக்கப்பட்ட \"ஆண் உடற்பகுதி\"யின் முக்கிய பண்பு என்ன?\n",
            "\n",
            "Translated Question: \"தாய் தெய்வத்தின் நிற்கும் உருவத்தில்\" சிவப்பு நிற சீட்டு பூசுவதன் முக்கியத்துவம் என்ன?\n",
            "\n",
            "Translated Question: ஸ்டீடைட்டால் செய்யப்பட்ட \"பசுபதி முத்திரையில்\" என்ன சித்தரிக்கப்பட்டுள்ளது?\n",
            "\n",
            "Translated Question: \"நமஸ்கர் போஸில் அமர்ந்திருக்கும் ஆண்\" கலைப்பொருளில் ஆண் உருவம் எவ்வாறு சித்தரிக்கப்படுகிறது?\n",
            "\n",
            "Translated Question: \"அர்த்தநாரீஸ்வர\" வெண்கல உருவம் எந்த நூற்றாண்டைச் சேர்ந்தது?\n",
            "\n",
            "Translated Question: \"பாரத\" வெண்கலச் சிற்பத்தில் இராமனின் செருப்புகளை ஏந்தியவாறு சித்தரிக்கப்பட்டவர் யார்?\n",
            "\n",
            "Translated Question: பஃப் சுனார் மணற்கற்களால் ஆன \"புத்தரின் தலை\" சிற்பத்தின் முதன்மையான பண்பு என்ன?\n",
            "\n",
            "Translated Question: \"பூ-தேவி\" வெண்கல உருவம் எந்த நூற்றாண்டில் செய்யப்பட்டது?\n",
            "\n",
            "Translated Question: கர்நாடகாவின் ஐஹோளிலிருந்து \"பறக்கும் வான\" கல் பலகையில் என்ன சித்தரிக்கப்பட்டுள்ளது?\n",
            "\n",
            "Translated Question: \"மோகினி\" கல் சிற்பம் எந்த நூற்றாண்டைச் சேர்ந்தது?\n",
            "\n",
            "Translated Question: \"சரஸ்வதி\" பளிங்கு சிற்பத்தில் சித்தரிக்கப்பட்டுள்ள முதன்மை தெய்வம் எது?\n",
            "\n",
            "Translated Question: காந்தாரத்தில் உள்ள \"நின்று புத்தர்\" கல் உருவம் எந்த காலகட்டத்தைச் சேர்ந்தது?\n",
            "\n",
            "Translated Question: ஒரிசாவின் கோனாரக்கில் இருந்து \"சூர்யா\" சிற்பத்தை உருவாக்க என்ன பொருள் பயன்படுத்தப்பட்டது?\n",
            "\n",
            "Translated Question: உத்தரப்பிரதேச மாநிலம் மதுராவில் உள்ள \"விஷ்ணு\" கல் உருவம் எந்த வம்சத்தைச் சேர்ந்தது?\n",
            "\n",
            "Translated Question: \"ஐந்து பிரபஞ்ச புத்தரின் சின்னங்களைக் கொண்ட கிரீடத்தின்\" முக்கியத்துவம் என்ன?\n",
            "\n",
            "Translated Question: அருணாச்சலப் பிரதேசத்தைச் சேர்ந்த \"அஜிலாமோ மாஸ்க்\" அணிந்து நடனமாடும் சமூகம் எது?\n",
            "\n",
            "Translated Question: லடாக்கிப் பெண்கள் அணியும் \"பேராக்\" தலைக்கவசம் என்ன திருமண நிலையைக் குறிக்கிறது?\n",
            "\n",
            "Translated Question: அருணாச்சல பிரதேசத்திலிருந்து வட்ட வடிவ கூடையின் உள்ளூர் சொல் என்ன?\n",
            "\n",
            "Translated Question: அசாமில் இருந்து \"கோகா\" கூடையின் முதன்மை நோக்கம் என்ன?\n",
            "\n",
            "Translated Question: அருணாச்சல பிரதேசத்தில் எந்த பழங்குடியினர் \"மிதுன் கொம்பை\" குடிக்கும் பாத்திரமாக பயன்படுத்துகிறார்கள்?\n",
            "\n",
            "Translated Question: மணிப்பூரின் \"புலி\" முகக் கூடையில் எந்த விலங்கு சித்தரிக்கப்பட்டுள்ளது?\n",
            "\n",
            "Translated Question: கேரளாவில் இருந்து வந்த \"யானை\" முகமூடி எந்த பொருளால் ஆனது?\n",
            "\n",
            "Translated Question: குஜராத்தின் \"கர் கர்\" ஜவுளி எந்த பண்டிகையுடன் தொடர்புடையது?\n",
            "\n",
            "Translated Question: பஞ்சாபிலிருந்து \"புல்காரி\" ஜவுளியின் முதன்மை மையக்கருத்து என்ன?\n",
            "\n",
            "Translated Question: குஜராத்தின் \"பித்தோரா\" கலைப்படைப்பில் எந்த உலோகம் முக்கியமாகப் பயன்படுத்தப்படுகிறது?\n",
            "\n",
            "Translated Question: குஜராத்தில் இருந்து \"பழங்குடியினர் போர்வீரர்\" எம்பிராய்டரி உருவாக்கத்தில் பயன்படுத்தப்படும் முதன்மையான பொருள் என்ன?\n",
            "\n",
            "Translated Question: \"மிரர் ஒர்க்\" ஜவுளி உற்பத்திக்கு பெயர் பெற்ற பகுதி எது?\n",
            "\n",
            "Translated Question: குஜராத்தின் \"படோலா\" பட்டு ஜவுளியின் முதன்மை வண்ணத் திட்டம் என்ன?\n",
            "\n",
            "Translated Question: குஜராத்தில் இருந்து \"பந்தனி\" ஜவுளி உருவாக்கத்தில் எந்த நுட்பம் பயன்படுத்தப்படுகிறது?\n",
            "\n",
            "Translated Question: மேற்கு வங்காளத்தில் இருந்து \"காந்த\" எம்பிராய்டரியில் பயன்படுத்தப்படும் பாரம்பரிய துணியின் பெயர் என்ன?\n",
            "\n",
            "Translated Question: குஜராத்தின் \"கிருஷ்ணா-ராதா\" ஜவுளியில் எந்த தெய்வம் சித்தரிக்கப்பட்டுள்ளது?\n",
            "\n",
            "Translated Question: அஸ்ஸாமில் இருந்து வரும் \"கமுசா\" ஜவுளியின் முதன்மை நோக்கம் என்ன?\n",
            "\n",
            "Translated Question: குஜராத்தின் கட்ச்சில் உள்ள \"பாட்\" எம்பிராய்டரி ஜவுளியுடன் தொடர்புடைய சமூகம் எது?\n",
            "\n",
            "Translated Question: மத்தியப் பிரதேசத்திலிருந்து வரும் \"சாந்தேரி\" ஜவுளியின் முதன்மைக் கருத்து என்ன?\n",
            "\n",
            "Translated Question: நாகாலாந்தின் \"நாகா பழங்குடியினர்\" ஆபரணம் என்ன வகையான நகை?\n",
            "\n",
            "Translated Question: ராஜஸ்தானில் இருந்து \"தேவா\" நகைகளை உருவாக்கப் பயன்படுத்தப்பட்ட முதன்மையான பொருள் என்ன?\n",
            "\n",
            "Translated Question: மேற்கு வங்காளத்தில் இருந்து \"டோக்ரா\" நகைகளை வடிவமைப்பதில் பெயர் பெற்ற சமூகம் எது?\n",
            "\n",
            "Translated Question: ஒடிசாவிலிருந்து வரும் \"பக்ஷி\" நெக்லஸில் என்ன விலங்கு சித்தரிக்கப்பட்டுள்ளது?\n",
            "\n",
            "Translated Question: தமிழ்நாட்டின் \"முத்து கவுண்டன்\" நகைகளை உருவாக்குவதில் பொதுவாகப் பயன்படுத்தப்படும் உலோகம் எது?\n",
            "\n",
            "Translated Question: ராஜஸ்தானின் \"மினா\" எனாமல் நகைகளின் முதன்மை செயல்பாடு என்ன?\n",
            "\n",
            "Translated Question: மகாராஷ்டிராவிலிருந்து \"ஆமை\" பதக்கமானது என்ன பொருளால் ஆனது?\n",
            "\n",
            "Translated Question: ஒடிசி நடனக் கலைஞர்கள் அணியும் \"கோயில் மோதிரத்தின்\" முக்கியத்துவம் என்ன?\n",
            "\n",
            "Translated Question: இமாச்சலப் பிரதேசத்தில் இருந்து \"குன்\" காதணிகளை அணிந்த சமூகம் எது?\n",
            "\n",
            "Translated Question: கேரளாவில் இருந்து \"ஜும்கா\" காதணிகளை உருவாக்கப் பயன்படுத்தப்படும் முதன்மையான பொருள் எது?\n",
            "\n"
          ]
        }
      ]
    },
    {
      "cell_type": "markdown",
      "source": [
        "**Translation: Tamil Question / English Answer**"
      ],
      "metadata": {
        "id": "LIj5ecSQdkXe"
      }
    },
    {
      "cell_type": "code",
      "source": [
        "from deep_translator import GoogleTranslator\n",
        "import json\n",
        "\n",
        "# Load the dataset from JSON file\n",
        "with open('/content/QnA.json', 'r', encoding='utf-8') as file:\n",
        "    data = json.load(file)\n",
        "\n",
        "# Translate questions from English to Tamil and keep answers in English\n",
        "translated_dataset = []\n",
        "for item in data['questions_answers']:\n",
        "    question_en = item['question']\n",
        "    translated_question_ta = GoogleTranslator(source='en', target='ta').translate(question_en)\n",
        "    translated_item = {\n",
        "        'question': translated_question_ta,\n",
        "        'answer': item['answer']\n",
        "    }\n",
        "    translated_dataset.append(translated_item)\n",
        "\n",
        "# Save the translated dataset back to JSON file\n",
        "with open('/content/translated_dataset.json', 'w', encoding='utf-8') as file:\n",
        "    json.dump({'questions_answers': translated_dataset}, file, ensure_ascii=False, indent=4)\n",
        "\n",
        "print(\"Translation and saving complete.\")\n"
      ],
      "metadata": {
        "colab": {
          "base_uri": "https://localhost:8080/"
        },
        "id": "pi6FdVlwbVUT",
        "outputId": "01a9f368-64a2-428f-a519-4adf7f5e6a75"
      },
      "execution_count": 14,
      "outputs": [
        {
          "output_type": "stream",
          "name": "stdout",
          "text": [
            "Translation and saving complete.\n"
          ]
        }
      ]
    },
    {
      "cell_type": "markdown",
      "source": [
        "**Translation: English question / Tamil answer**"
      ],
      "metadata": {
        "id": "PGIe6lzpdqiO"
      }
    },
    {
      "cell_type": "code",
      "source": [
        "from deep_translator import GoogleTranslator\n",
        "import json\n",
        "\n",
        "# Load the dataset from JSON file\n",
        "with open('/content/QnA.json', 'r', encoding='utf-8') as file:\n",
        "    data = json.load(file)\n",
        "\n",
        "# Translate questions from English to Tamil and keep answers in English\n",
        "translated_dataset = []\n",
        "for item in data['questions_answers']:\n",
        "    answer_en = item['answer']\n",
        "    translated_ans_ta = GoogleTranslator(source='en', target='ta').translate(answer_en)\n",
        "    translated_item = {\n",
        "        'question': item['question'],\n",
        "        'answer': translated_ans_ta\n",
        "    }\n",
        "    translated_dataset.append(translated_item)\n",
        "\n",
        "# Save the translated dataset back to JSON file\n",
        "with open('/content/Eng_Tamil.json', 'w', encoding='utf-8') as file:\n",
        "    json.dump({'questions_answers': translated_dataset}, file, ensure_ascii=False, indent=4)\n",
        "\n",
        "print(\"Translation and saving complete.\")"
      ],
      "metadata": {
        "colab": {
          "base_uri": "https://localhost:8080/"
        },
        "id": "AZU-9G44cAYT",
        "outputId": "16d78d3b-e39c-468a-ebc9-429938239811"
      },
      "execution_count": 16,
      "outputs": [
        {
          "output_type": "stream",
          "name": "stdout",
          "text": [
            "Translation and saving complete.\n"
          ]
        }
      ]
    }
  ]
}